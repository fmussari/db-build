{
 "cells": [
  {
   "cell_type": "code",
   "execution_count": 1,
   "metadata": {},
   "outputs": [],
   "source": [
    "import sqlite_utils\n",
    "from click.testing import CliRunner\n",
    "from sqlite_utils.utils import TypeTracker, rows_from_file\n",
    "from db_build.cli import cli"
   ]
  },
  {
   "cell_type": "markdown",
   "metadata": {},
   "source": [
    "### `db-build`"
   ]
  },
  {
   "cell_type": "code",
   "execution_count": 2,
   "metadata": {},
   "outputs": [],
   "source": [
    "! db-build"
   ]
  },
  {
   "cell_type": "code",
   "execution_count": 3,
   "metadata": {},
   "outputs": [
    {
     "name": "stdout",
     "output_type": "stream",
     "text": [
      "[<Table test1 (county, precinct, office, district, party, candidate, votes)>, <Table test2 (county, precinct, office, district, party, candidate, votes)>]\n"
     ]
    }
   ],
   "source": [
    "db = sqlite_utils.Database('playground.db')\n",
    "print(db.tables)"
   ]
  },
  {
   "cell_type": "code",
   "execution_count": 4,
   "metadata": {},
   "outputs": [],
   "source": [
    "assert db.schema == (\n",
    "    'CREATE TABLE [test1] (\\n'\n",
    "    '   [county] TEXT,\\n'\n",
    "    '   [precinct] TEXT,\\n'\n",
    "    '   [office] TEXT,\\n'\n",
    "    '   [district] TEXT,\\n'\n",
    "    '   [party] TEXT,\\n'\n",
    "    '   [candidate] TEXT,\\n'\n",
    "    '   [votes] TEXT\\n'\n",
    "    ');\\n'\n",
    "    'CREATE TABLE [test2] (\\n'\n",
    "    '   [county] TEXT,\\n'\n",
    "    '   [precinct] TEXT,\\n'\n",
    "    '   [office] TEXT,\\n'\n",
    "    '   [district] TEXT,\\n'\n",
    "    '   [party] TEXT,\\n'\n",
    "    '   [candidate] TEXT,\\n'\n",
    "    '   [votes] TEXT\\n);')\n",
    "db.close()"
   ]
  },
  {
   "cell_type": "markdown",
   "metadata": {},
   "source": [
    "### `db-build t12a.db *.csv`\n",
    "Passing files."
   ]
  },
  {
   "cell_type": "code",
   "execution_count": 5,
   "metadata": {},
   "outputs": [],
   "source": [
    "! db-build t12a.db *.csv"
   ]
  },
  {
   "cell_type": "code",
   "execution_count": 6,
   "metadata": {},
   "outputs": [
    {
     "name": "stdout",
     "output_type": "stream",
     "text": [
      "[<Table test1 (county, precinct, office, district, party, candidate, votes)>, <Table test2 (county, precinct, office, district, party, candidate, votes)>]\n"
     ]
    }
   ],
   "source": [
    "db = sqlite_utils.Database('t12a.db')\n",
    "print(db.tables)"
   ]
  },
  {
   "cell_type": "code",
   "execution_count": 7,
   "metadata": {},
   "outputs": [],
   "source": [
    "assert db.schema == (\n",
    "    'CREATE TABLE [test1] (\\n'\n",
    "    '   [county] TEXT,\\n'\n",
    "    '   [precinct] TEXT,\\n'\n",
    "    '   [office] TEXT,\\n'\n",
    "    '   [district] TEXT,\\n'\n",
    "    '   [party] TEXT,\\n'\n",
    "    '   [candidate] TEXT,\\n'\n",
    "    '   [votes] TEXT\\n'\n",
    "    ');\\n'\n",
    "    'CREATE TABLE [test2] (\\n'\n",
    "    '   [county] TEXT,\\n'\n",
    "    '   [precinct] TEXT,\\n'\n",
    "    '   [office] TEXT,\\n'\n",
    "    '   [district] TEXT,\\n'\n",
    "    '   [party] TEXT,\\n'\n",
    "    '   [candidate] TEXT,\\n'\n",
    "    '   [votes] TEXT\\n);')\n",
    "db.close()"
   ]
  },
  {
   "cell_type": "markdown",
   "metadata": {},
   "source": [
    "### `db-build t12b.db .`\n",
    "\n",
    "Passing current folder"
   ]
  },
  {
   "cell_type": "code",
   "execution_count": 8,
   "metadata": {},
   "outputs": [],
   "source": [
    "! db-build t12b.db ."
   ]
  },
  {
   "cell_type": "code",
   "execution_count": 9,
   "metadata": {},
   "outputs": [
    {
     "name": "stdout",
     "output_type": "stream",
     "text": [
      "[<Table test1 (county, precinct, office, district, party, candidate, votes)>, <Table test2 (county, precinct, office, district, party, candidate, votes)>]\n"
     ]
    }
   ],
   "source": [
    "db = sqlite_utils.Database('t12b.db')\n",
    "print(db.tables)"
   ]
  },
  {
   "cell_type": "code",
   "execution_count": 10,
   "metadata": {},
   "outputs": [],
   "source": [
    "assert db.schema == (\n",
    "    'CREATE TABLE [test1] (\\n'\n",
    "    '   [county] TEXT,\\n'\n",
    "    '   [precinct] TEXT,\\n'\n",
    "    '   [office] TEXT,\\n'\n",
    "    '   [district] TEXT,\\n'\n",
    "    '   [party] TEXT,\\n'\n",
    "    '   [candidate] TEXT,\\n'\n",
    "    '   [votes] TEXT\\n'\n",
    "    ');\\n'\n",
    "    'CREATE TABLE [test2] (\\n'\n",
    "    '   [county] TEXT,\\n'\n",
    "    '   [precinct] TEXT,\\n'\n",
    "    '   [office] TEXT,\\n'\n",
    "    '   [district] TEXT,\\n'\n",
    "    '   [party] TEXT,\\n'\n",
    "    '   [candidate] TEXT,\\n'\n",
    "    '   [votes] TEXT\\n);')\n",
    "db.close()"
   ]
  },
  {
   "cell_type": "markdown",
   "metadata": {},
   "source": [
    "### `db-build t12c.db *.*`"
   ]
  },
  {
   "cell_type": "code",
   "execution_count": 11,
   "metadata": {},
   "outputs": [],
   "source": [
    "! db-build t12c.db *.*"
   ]
  },
  {
   "cell_type": "code",
   "execution_count": 12,
   "metadata": {},
   "outputs": [
    {
     "name": "stdout",
     "output_type": "stream",
     "text": [
      "[<Table test1 (county, precinct, office, district, party, candidate, votes)>, <Table test2 (county, precinct, office, district, party, candidate, votes)>]\n"
     ]
    }
   ],
   "source": [
    "db = sqlite_utils.Database('t12c.db')\n",
    "print(db.tables)"
   ]
  },
  {
   "cell_type": "code",
   "execution_count": 13,
   "metadata": {},
   "outputs": [],
   "source": [
    "assert db.schema == (\n",
    "    'CREATE TABLE [test1] (\\n'\n",
    "    '   [county] TEXT,\\n'\n",
    "    '   [precinct] TEXT,\\n'\n",
    "    '   [office] TEXT,\\n'\n",
    "    '   [district] TEXT,\\n'\n",
    "    '   [party] TEXT,\\n'\n",
    "    '   [candidate] TEXT,\\n'\n",
    "    '   [votes] TEXT\\n'\n",
    "    ');\\n'\n",
    "    'CREATE TABLE [test2] (\\n'\n",
    "    '   [county] TEXT,\\n'\n",
    "    '   [precinct] TEXT,\\n'\n",
    "    '   [office] TEXT,\\n'\n",
    "    '   [district] TEXT,\\n'\n",
    "    '   [party] TEXT,\\n'\n",
    "    '   [candidate] TEXT,\\n'\n",
    "    '   [votes] TEXT\\n);')\n",
    "db.close()"
   ]
  },
  {
   "cell_type": "markdown",
   "metadata": {},
   "source": [
    "### `db-build t123.db . other_csv`\n",
    "Two folders: Current and `other_csv` folder"
   ]
  },
  {
   "cell_type": "code",
   "execution_count": 14,
   "metadata": {},
   "outputs": [],
   "source": [
    "! db-build t123.db . other_csv"
   ]
  },
  {
   "cell_type": "code",
   "execution_count": 15,
   "metadata": {},
   "outputs": [
    {
     "name": "stdout",
     "output_type": "stream",
     "text": [
      "[<Table test1 (county, precinct, office, district, party, candidate, votes)>, <Table test2 (county, precinct, office, district, party, candidate, votes)>, <Table test3 (county, precinct, office, district, party, candidate, votes)>]\n"
     ]
    }
   ],
   "source": [
    "db = sqlite_utils.Database('t123.db')\n",
    "print(db.tables)"
   ]
  },
  {
   "cell_type": "code",
   "execution_count": 17,
   "metadata": {},
   "outputs": [],
   "source": [
    "assert db.schema == (\n",
    "    'CREATE TABLE [test1] (\\n'\n",
    "    '   [county] TEXT,\\n'\n",
    "    '   [precinct] TEXT,\\n'\n",
    "    '   [office] TEXT,\\n'\n",
    "    '   [district] TEXT,\\n'\n",
    "    '   [party] TEXT,\\n'\n",
    "    '   [candidate] TEXT,\\n'\n",
    "    '   [votes] TEXT\\n'\n",
    "    ');\\n'\n",
    "    'CREATE TABLE [test2] (\\n'\n",
    "    '   [county] TEXT,\\n'\n",
    "    '   [precinct] TEXT,\\n'\n",
    "    '   [office] TEXT,\\n'\n",
    "    '   [district] TEXT,\\n'\n",
    "    '   [party] TEXT,\\n'\n",
    "    '   [candidate] TEXT,\\n'\n",
    "    '   [votes] TEXT\\n'\n",
    "    ');\\n'\n",
    "    'CREATE TABLE [test3] (\\n'\n",
    "    '   [county] TEXT,\\n'\n",
    "    '   [precinct] TEXT,\\n'\n",
    "    '   [office] TEXT,\\n'\n",
    "    '   [district] TEXT,\\n'\n",
    "    '   [party] TEXT,\\n'\n",
    "    '   [candidate] TEXT,\\n'\n",
    "    '   [votes] TEXT\\n'\n",
    "    ');')"
   ]
  }
 ],
 "metadata": {
  "kernelspec": {
   "display_name": "venv",
   "language": "python",
   "name": "python3"
  },
  "language_info": {
   "codemirror_mode": {
    "name": "ipython",
    "version": 3
   },
   "file_extension": ".py",
   "mimetype": "text/x-python",
   "name": "python",
   "nbconvert_exporter": "python",
   "pygments_lexer": "ipython3",
   "version": "3.11.4"
  },
  "orig_nbformat": 4
 },
 "nbformat": 4,
 "nbformat_minor": 2
}
